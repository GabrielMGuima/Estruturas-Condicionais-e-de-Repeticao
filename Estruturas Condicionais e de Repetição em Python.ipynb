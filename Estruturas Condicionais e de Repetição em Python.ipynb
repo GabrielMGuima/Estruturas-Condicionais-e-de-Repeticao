{
 "cells": [
  {
   "cell_type": "code",
   "execution_count": 6,
   "metadata": {},
   "outputs": [],
   "source": [
    "#Para Certos Codigos é Necessario o Uso de Espaços para que o Python Reconheça seu codigo\n",
    "#Você precisa manter o codigo na msm linha de andamento de alguns comando para que ele funcione \n",
    "#dentro do bloco de comando que você determinou. Caso você coloque fora ele pode ter mal funcionamento ou até erro"
   ]
  },
  {
   "cell_type": "code",
   "execution_count": 7,
   "metadata": {},
   "outputs": [],
   "source": [
    "def sacar(valor):\n",
    " saldo = 500 \n",
    "\n",
    "#Como exemplo se saldo n tiver dentro da função sacar o codigo daria erro pos saldo n iria pertencer ao codigo sacar"
   ]
  },
  {
   "cell_type": "code",
   "execution_count": 8,
   "metadata": {},
   "outputs": [],
   "source": [
    "#Outro Exemplo seria com 'Print' se ele estiver sem espaçamento vai ser posto de qualquer forma\n",
    "#Agora se ele estiver dentro de um codigo so vai ser executado se o codigo for também\n",
    "\n",
    "saldo = int(input('Digite O Valor Que Deseja Sacar ='))\n",
    "if saldo >=500:\n",
    "    print('Valor insuficiente')\n",
    "    \n",
    "#Como demonstrado print so vai funcionar se o saldo for maior do que 500 \n",
    "#Agora Sem o Uso do espaço ele seria executado de qualquer forma\n",
    "    "
   ]
  },
  {
   "cell_type": "code",
   "execution_count": 9,
   "metadata": {},
   "outputs": [],
   "source": [
    "# if: se ler 'Si For'. usado pra determinar uma função\n",
    "# else: se ler 'Caso não'. usado caso a função não seja cumprida\n",
    "# elif: se ler 'è se for'. usado para dar + de uma função ao msm comando\n",
    "# Você pode usar quantos \"elif:\" Você Quiser\n"
   ]
  },
  {
   "cell_type": "code",
   "execution_count": 10,
   "metadata": {},
   "outputs": [
    {
     "name": "stdout",
     "output_type": "stream",
     "text": [
      "Sacando...\n",
      "Exibindo o extrato.....\n",
      "Sacando...\n"
     ]
    }
   ],
   "source": [
    "#Estruturas De Repetição\n",
    "\n",
    "# O Comando 'While' é usado para repetir um bloco de código várias vezes.\n",
    "# faz sentido usar while quando não sabemos u numero exato de vezes que nosso bloco de código deve ser executado.\n",
    "# Ou quando precisamos repetir muitas vezes o mesmo código.\n",
    "\n",
    "# 'break'Ele serve pra corta o laço da repetição caso uma ação for atendida\n",
    "\n",
    "# 'continue' Ele serve pra pular a execução de algo em uma estrutura de repetição.\n",
    "\n",
    "# 'for' Ele é usado para percorrer um objeto iterável.(sendo usado pra repetir códigos determinadas vezes)\n",
    "# Faz sentio usar 'for' quando sabemos o número exato de vezes que nosso bloco de código deve ser executado.\n",
    "# Ou quando queremos percorrer um objeto iterável.\n",
    "\n",
    "\n",
    "# '!=' Ele serve para diferenciar. \n",
    "#se ler (se (Tal Coisa) for diferente execute tal coisa).\n",
    "#Caso seja igual a (Tal Coisa) não execute tal coisa.\n",
    "\n",
    "\n",
    "# 'range' Ele é uma função built-in, ela é usada para produzir uma sequência de números inteiros a partir de:\n",
    "# um ínicio (inclusivo) para um fim (exclusivo).\n",
    "#Ela recebe 3 argumentos: stop (obrigatório), start (opcional) e step (opcional).\n",
    "\n"
   ]
  },
  {
   "cell_type": "code",
   "execution_count": 14,
   "metadata": {},
   "outputs": [
    {
     "name": "stdout",
     "output_type": "stream",
     "text": [
      "Sacando...\n",
      "Exibindo o extrato.....\n",
      "Obrigado Por Usar Nossos Serviços Volte Sempre!\n"
     ]
    }
   ],
   "source": [
    "#Exemplo do uso de While e !=\n",
    "opcao = -1\n",
    "while opcao != 0: # while(repita opcao) caso ('!=' opcao não for igual a 0 )\n",
    "    opcao = int(input('[1]Sacar\\n[2] Extrato \\n[0]Sair\\n:'))\n",
    "    if opcao == 1: print('Sacando...')\n",
    "    elif opcao == 2: print('Exibindo o extrato.....')\n",
    "    else: print('Obrigado Por Usar Nossos Serviços Volte Sempre!')\n",
    "    # o 'else' esta sendo usando para finalizar com uma mensagem.sendo 'else' (Se o codigo não for cumprido(repetir), faça tal coisa).\n",
    "\n",
    "# Nessa estrutura ele ira repetir as opções 1 e 2 até que o usuario digite >0< numero determinado para sair      "
   ]
  },
  {
   "cell_type": "code",
   "execution_count": 15,
   "metadata": {},
   "outputs": [
    {
     "name": "stdout",
     "output_type": "stream",
     "text": [
      "0 5 10 15 20 25 30 35 40 45 50 "
     ]
    }
   ],
   "source": [
    "#Exemplo utilizando a função built-in range e for.\n",
    "list(range(4)) # Cria Uma lista de numeros contando de 0 ate o penultimo numero\n",
    "for numero in range(0, 51,5): # o primeiro numero determina o inicio, o segundo até onde vai a contagem, e o terceiro de quantas em quantas vezes sera exibido.\n",
    "    print(numero, end=\" \")\n",
    "\n",
    "# O ultimo numero da contagem não sera exibido    "
   ]
  },
  {
   "cell_type": "code",
   "execution_count": 1,
   "metadata": {},
   "outputs": [
    {
     "name": "stdout",
     "output_type": "stream",
     "text": [
      "ao"
     ]
    }
   ],
   "source": [
    "# Exemplo utilizando um iterável\n",
    "texto = input('Informe Um Texto:')\n",
    "Vogais = 'AEIOU'\n",
    "for letra in texto:\n",
    "    if letra.upper() in Vogais:\n",
    "        print(letra, end='')\n",
    "# Estrutura STR para separar as VOGAIS:"
   ]
  }
 ],
 "metadata": {
  "kernelspec": {
   "display_name": "Python 3",
   "language": "python",
   "name": "python3"
  },
  "language_info": {
   "codemirror_mode": {
    "name": "ipython",
    "version": 3
   },
   "file_extension": ".py",
   "mimetype": "text/x-python",
   "name": "python",
   "nbconvert_exporter": "python",
   "pygments_lexer": "ipython3",
   "version": "3.8.10"
  }
 },
 "nbformat": 4,
 "nbformat_minor": 2
}
